{
 "cells": [
  {
   "cell_type": "code",
   "execution_count": 4,
   "metadata": {},
   "outputs": [],
   "source": [
    "# import libraries \n",
    "import pandas as pd \n",
    "import numpy as np \n",
    "import matplotlib.pyplot as plt \n",
    "from sklearn.ensemble import RandomForestClassifier\n",
    "from sklearn.model_selection import train_test_split\n",
    "from sklearn.metrics import accuracy_score, precision_score, roc_curve, recall_score, roc_auc_score"
   ]
  },
  {
   "cell_type": "code",
   "execution_count": 6,
   "metadata": {},
   "outputs": [
    {
     "name": "stdout",
     "output_type": "stream",
     "text": [
      "   actual_values  predicted_values\n",
      "0              0                 0\n",
      "1              0                 1\n",
      "2              0                 0\n",
      "3              0                 0\n",
      "4              0                 0\n",
      "5              1                 1\n",
      "6              0                 0\n",
      "7              0                 0\n",
      "8              1                 1\n",
      "9              0                 0\n"
     ]
    }
   ],
   "source": [
    "# import dataset \n",
    "diabetes= pd.read_csv(\"C:/Users/kezen/OneDrive/Documents/Microsoft/data/diabetes.csv\", delimiter=\",\", header=\"infer\")\n",
    "\n",
    "# Separate features and labels\n",
    "features = ['Pregnancies','PlasmaGlucose','DiastolicBloodPressure','TricepsThickness','SerumInsulin','BMI','DiabetesPedigree','Age']\n",
    "label = 'Diabetic'\n",
    "x = diabetes[features].values \n",
    "y =diabetes[label].values\n",
    "\n",
    "# split data 70% to training and test dataset: 70% to training and 30% to testing dataset \n",
    "x_train,x_test,y_train, y_test = train_test_split(x,y, test_size = 0.3, random_state = 100) # random_state ensures reproducibility\n",
    "\n",
    "# fit logistic regression model \n",
    "model = RandomForestClassifier(random_state= 100).fit(x_train, y_train)\n",
    "\n",
    "# make predictions on the test data set \n",
    "predictions = model.predict(x_test)\n",
    "\n",
    "# create dataframe of actual vs predicted values \n",
    "df = pd.DataFrame({\n",
    "  \"actual_values\": y_test,\n",
    "  \"predicted_values\": predictions  \n",
    "})\n",
    "print(df.head(10))\n"
   ]
  },
  {
   "cell_type": "code",
   "execution_count": 7,
   "metadata": {},
   "outputs": [
    {
     "name": "stdout",
     "output_type": "stream",
     "text": [
      "\n",
      "Accuracy: 0.94\n",
      "Recall: 0.89\n",
      "Precision: 0.93\n"
     ]
    }
   ],
   "source": [
    "# evaluate model performance \n",
    "accuracy = np.round(accuracy_score(y_test, predictions), 2)\n",
    "recall = np.round(recall_score(y_test, predictions), 2)\n",
    "precision = np.round(precision_score(y_test, predictions), 2)\n",
    "print(f\"\\nAccuracy: {accuracy}\")\n",
    "print(f\"Recall: {recall}\")\n",
    "print(f\"Precision: {precision}\")\n"
   ]
  },
  {
   "cell_type": "markdown",
   "metadata": {},
   "source": [
    "Random forest algoithm performed better than decision tree and logistic regression"
   ]
  },
  {
   "cell_type": "code",
   "execution_count": 9,
   "metadata": {},
   "outputs": [
    {
     "data": {
      "image/png": "[encoded data removed]",
      "text/plain": [
       "<Figure size 432x288 with 1 Axes>"
      ]
     },
     "metadata": {
      "needs_background": "light"
     },
     "output_type": "display_data"
    }
   ],
   "source": [
    "# plot the ROC Curve\n",
    "#ROC Curve shows the curve of the true and false positive rates.\n",
    "\n",
    "from sklearn.metrics import roc_curve, roc_auc_score\n",
    "# get probailities of th predictions \n",
    "y_scores  = model.predict_proba(x_test)\n",
    "\n",
    "# calculate the ROC Curve \n",
    "fpr, tpr, thresholds = roc_curve(y_true= y_test, y_score= y_scores[:,1])\n",
    "# plot the 50% diagonal line \n",
    "plt.plot([0,1], [0,1], \"k--\")\n",
    "plt.plot(fpr, tpr)\n",
    "plt.title(\"ROC Curve\")\n",
    "plt.xlabel(\"False Positive Rate\")\n",
    "plt.ylabel(\"True Positive Rate\")\n",
    "plt.show()"
   ]
  }
 ],
 "metadata": {
  "interpreter": {
   "hash": "2040da8ca29d028fd77a98f656d6d33ab79db1d6e1b4800bea793ff287b05de3"
  },
  "kernelspec": {
   "display_name": "Python 3.8.8 64-bit ('base': conda)",
   "language": "python",
   "name": "python3"
  },
  "language_info": {
   "codemirror_mode": {
    "name": "ipython",
    "version": 3
   },
   "file_extension": ".py",
   "mimetype": "text/x-python",
   "name": "python",
   "nbconvert_exporter": "python",
   "pygments_lexer": "ipython3",
   "version": "3.8.8"
  },
  "orig_nbformat": 4
 },
 "nbformat": 4,
 "nbformat_minor": 2
}
