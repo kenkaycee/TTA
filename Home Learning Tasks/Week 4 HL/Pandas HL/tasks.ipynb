{
 "cells": [
  {
   "cell_type": "code",
   "execution_count": null,
   "metadata": {},
   "outputs": [],
   "source": [
    "import pandas as pd\n",
    "holiday_dest = pd.read_csv(\"holiday.csv\")\n",
    "holiday_dest.head()"
   ]
  },
  {
   "cell_type": "code",
   "execution_count": null,
   "metadata": {},
   "outputs": [],
   "source": [
    "#Task 1\n",
    "# How many rows and columns are there in your file?\n",
    "shape = holiday_dest.shape\n",
    "print(f\"The number of rows is {shape[0]} and the number of columns is {shape[1]}.\")\n"
   ]
  },
  {
   "cell_type": "code",
   "execution_count": null,
   "metadata": {},
   "outputs": [],
   "source": [
    "\n",
    "#Task 2\n",
    "# Print row 3-8 ( using iloc/loc)\n",
    "print(holiday_dest.iloc[2:8])\n"
   ]
  },
  {
   "cell_type": "code",
   "execution_count": null,
   "metadata": {},
   "outputs": [],
   "source": [
    "\n",
    "# Task 3\n",
    "# Find the mean number of all inclusive hotels across all destinations.\n",
    "\n",
    "avg_hotel= holiday_dest[\"all_inclusive_hotel\"].mean()\n",
    "print(f\"The average number of all-inclusive hotel is {round(avg_hotel)}.\")\n"
   ]
  },
  {
   "cell_type": "code",
   "execution_count": null,
   "metadata": {},
   "outputs": [],
   "source": [
    "\n",
    "# Task 4\n",
    "# Find the lowest scoring destination.\n",
    "\n",
    "lowest_score_dest= holiday_dest.feedback_score.min()\n",
    "holiday_dest[holiday_dest.feedback_score == lowest_score_dest]\n"
   ]
  },
  {
   "cell_type": "code",
   "execution_count": null,
   "metadata": {},
   "outputs": [],
   "source": [
    "\n",
    "# Task 5\n",
    "# Find the highest scoring destination.\n",
    "highest_score_dest = holiday_dest.feedback_score.max()\n",
    "holiday_dest[holiday_dest.feedback_score == highest_score_dest]\n"
   ]
  },
  {
   "cell_type": "code",
   "execution_count": null,
   "metadata": {},
   "outputs": [],
   "source": [
    "\n",
    "# Task 6\n",
    "#Find all the destinations where there are more than 9 all inclusive hotels.\n",
    "holiday_dest[holiday_dest.all_inclusive_hotel > 9]\n"
   ]
  },
  {
   "cell_type": "code",
   "execution_count": null,
   "metadata": {},
   "outputs": [],
   "source": [
    "\n",
    "# Task 7\n",
    "# Filter the data by score above 8.\n",
    "holiday_dest[holiday_dest.feedback_score > 8]\n"
   ]
  },
  {
   "cell_type": "code",
   "execution_count": null,
   "metadata": {},
   "outputs": [],
   "source": [
    "\n",
    "# Task 8\n",
    "# Filter the data score below 2 ( I need to know if these destinations should be removed or there is a problem)\n",
    "\n",
    "holiday_dest[holiday_dest.feedback_score < 2]\n"
   ]
  },
  {
   "cell_type": "code",
   "execution_count": null,
   "metadata": {},
   "outputs": [],
   "source": [
    "\n",
    "\n",
    "# Pandas extension\n",
    "# Is there a correlation between number of all inclusive hotels and score?\n",
    "print(round(holiday_dest.all_inclusive_hotel.corr(holiday_dest.feedback_score),2))\n",
    "#correlation coefficient of 0.7; both variables are positively corelated \n"
   ]
  },
  {
   "cell_type": "code",
   "execution_count": null,
   "metadata": {},
   "outputs": [],
   "source": [
    "\n",
    "# Task 9\n",
    "# Create a data visualisation diagram to show destination and highest scores?\n",
    "#scatterplot showing feeback score versus destibnation using pandas plotting\n",
    "holiday_dest.sort_values(by = \"feedback_score\").plot.scatter( \"feedback_score\", \"destination\")\n"
   ]
  },
  {
   "cell_type": "code",
   "execution_count": null,
   "metadata": {},
   "outputs": [],
   "source": [
    "#Use plotly to create interactive scatterplot\n",
    "#hover around the point to see detiantion and its feedback score\n",
    "import plotly.express as px\n",
    "px.scatter(holiday_dest.sort_values(by=\"feedback_score\"), \"feedback_score\", \"destination\")"
   ]
  }
 ],
 "metadata": {
  "interpreter": {
   "hash": "2040da8ca29d028fd77a98f656d6d33ab79db1d6e1b4800bea793ff287b05de3"
  },
  "kernelspec": {
   "display_name": "Python 3.8.8 64-bit ('base': conda)",
   "language": "python",
   "name": "python3"
  },
  "language_info": {
   "codemirror_mode": {
    "name": "ipython",
    "version": 3
   },
   "file_extension": ".py",
   "mimetype": "text/x-python",
   "name": "python",
   "nbconvert_exporter": "python",
   "pygments_lexer": "ipython3",
   "version": "3.8.8"
  },
  "orig_nbformat": 4
 },
 "nbformat": 4,
 "nbformat_minor": 2
}
